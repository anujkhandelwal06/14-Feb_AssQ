{
 "cells": [
  {
   "cell_type": "code",
   "execution_count": 2,
   "id": "021ab5c7-d4bb-498a-876c-fb3127f0bb8d",
   "metadata": {},
   "outputs": [
    {
     "data": {
      "text/plain": [
       "'Q.1 What is multithreading in python? why is it used? Name the module used to handle threads in python'"
      ]
     },
     "execution_count": 2,
     "metadata": {},
     "output_type": "execute_result"
    }
   ],
   "source": [
    "\"\"\"Q.1 What is multithreading in python? why is it used? Name the module used to handle threads in python\"\"\""
   ]
  },
  {
   "cell_type": "code",
   "execution_count": 4,
   "id": "d9b3660e-5e53-48cd-901b-cded932241f6",
   "metadata": {},
   "outputs": [
    {
     "data": {
      "text/plain": [
       "'Multithreading in Python refers to the ability of a program to execute multiple threads simultaneously.\\nEach thread can perform a different task, and they share the same memory space, allowing for efficient communication between them.\\n\\nMultithreading is used to improve the performance of programs that perform multiple tasks simultaneously.\\nBy using multiple threads, a program can take advantage of multiple CPU cores and perform multiple tasks concurrently,\\nreducing the overall execution time of the program.\\n\\nThe threading module is used to handle threads in Python.\\nIt provides a simple way to create and manage threads in a program.\\nThe module allows the programmer to create and start new threads,and also provides methods for synchronizing threads,\\nsuch as locking mechanisms and condition variables,to ensure that threads are executed in a coordinated and safe manner.'"
      ]
     },
     "execution_count": 4,
     "metadata": {},
     "output_type": "execute_result"
    }
   ],
   "source": [
    "\"\"\"Multithreading in Python refers to the ability of a program to execute multiple threads simultaneously.\n",
    "Each thread can perform a different task, and they share the same memory space, allowing for efficient communication between them.\n",
    "\n",
    "Multithreading is used to improve the performance of programs that perform multiple tasks simultaneously.\n",
    "By using multiple threads, a program can take advantage of multiple CPU cores and perform multiple tasks concurrently,\n",
    "reducing the overall execution time of the program.\n",
    "\n",
    "The threading module is used to handle threads in Python.\n",
    "It provides a simple way to create and manage threads in a program.\n",
    "The module allows the programmer to create and start new threads,and also provides methods for synchronizing threads,\n",
    "such as locking mechanisms and condition variables,to ensure that threads are executed in a coordinated and safe manner.\"\"\"\n",
    " "
   ]
  },
  {
   "cell_type": "code",
   "execution_count": 5,
   "id": "8f4cfdb3-677f-4d3f-a1fe-87a4c707e962",
   "metadata": {},
   "outputs": [
    {
     "data": {
      "text/plain": [
       "'Q2.Why threading module used? Write the use of the following functions:\\n1.activeCount()\\n2.currentThread()\\n3.enumerate()'"
      ]
     },
     "execution_count": 5,
     "metadata": {},
     "output_type": "execute_result"
    }
   ],
   "source": [
    "\"\"\"Q2.Why threading module used? Write the use of the following functions:\n",
    "1.activeCount()\n",
    "2.currentThread()\n",
    "3.enumerate()\"\"\""
   ]
  },
  {
   "cell_type": "code",
   "execution_count": 9,
   "id": "1887359a-7946-4c15-af6e-1ef2c98ce0d2",
   "metadata": {},
   "outputs": [],
   "source": [
    "#The threading module in Python is used to implement multi-threading. \n",
    "#It allows for concurrent execution of multiple threads within a single program, \n",
    "#enabling efficient utilization of CPU resources and improved performance.\n",
    "\n",
    "#1.activeCount(): This function returns the number of active thread objects in the current thread control process. \n",
    "#  It is useful for debugging and monitoring purposes, allowing you to check how many threads are currently running.\n",
    "\n",
    "#2.currentThread(): This function returns a reference to the current thread object that is executing the current function call.\n",
    "# It is useful for getting information about the current thread, such as its name or ID.\n",
    "\n",
    "#3.enumerate(): This function returns a list of all thread objects that are currently active in the current thread control process. \n",
    "#  It is useful for monitoring and debugging purposes, allowing you to check the status of all running threads and\n",
    "# their associated data. The list returned by enumerate() includes daemon threads, non-daemon threads, and the main thread."
   ]
  },
  {
   "cell_type": "code",
   "execution_count": 11,
   "id": "5eb37ace-a7e9-45a2-952e-d68ce46bfbf9",
   "metadata": {},
   "outputs": [
    {
     "data": {
      "text/plain": [
       "'Q.3. Explain the following functions:\\n1.run()\\n2.start()\\n3.join()\\n4.isAlive()'"
      ]
     },
     "execution_count": 11,
     "metadata": {},
     "output_type": "execute_result"
    }
   ],
   "source": [
    "\"\"\"Q.3. Explain the following functions:\n",
    "1.run()\n",
    "2.start()\n",
    "3.join()\n",
    "4.isAlive()\"\"\""
   ]
  },
  {
   "cell_type": "code",
   "execution_count": 12,
   "id": "4b0f3c1e-dd20-4d9d-81c0-da7b5e3b9321",
   "metadata": {},
   "outputs": [],
   "source": [
    "#1.run(): The run() method is a fundamental method of the Thread class in Python that represents the code to be run in the thread.\n",
    "# When the thread's start() method is called, it automatically calls the run() method in a separate thread.\n",
    "# Therefore, you should override this method in your subclass to define the behavior of the thread.\n",
    "\n",
    "#2.start(): The start() method is a built-in method of the Thread class in Python that creates and starts a new thread.\n",
    "#It starts the thread by calling the run() method in a separate thread of control.\n",
    "# It should be called only once per thread, and an attempt to restart a thread that has already been started will cause a RuntimeError.\n",
    "\n",
    "#3.join(): The join() method is a built-in method of the Thread class in Python that waits for the thread to complete its execution.\n",
    "#When this method is called on a thread, the calling thread will wait until the target thread has finished executing.\n",
    "#If the thread has already finished, the join() method returns immediately. \n",
    "#This method is useful when you want to ensure that a thread has completed its work before continuing with the main thread.\n",
    "\n",
    "#4.isAlive(): The isAlive() method is a built-in method of the Thread class in Python that returns True if the thread is still alive and False otherwise. \n",
    "# A thread is considered alive if it has been started but has not yet finished executing. \n",
    "#This method is useful when you want to check the status of a thread before performing some action, such as joining the thread."
   ]
  },
  {
   "cell_type": "code",
   "execution_count": 13,
   "id": "e0d0b7a6-9a5d-4d07-9407-184001562621",
   "metadata": {},
   "outputs": [
    {
     "data": {
      "text/plain": [
       "'4.  Write a python program to create two threads. Thread one must print the list of squares and thread two must print the list of cubes'"
      ]
     },
     "execution_count": 13,
     "metadata": {},
     "output_type": "execute_result"
    }
   ],
   "source": [
    "\"\"\"4.  Write a python program to create two threads. Thread one must print the list of squares and thread two must print the list of cubes\"\"\""
   ]
  },
  {
   "cell_type": "code",
   "execution_count": 15,
   "id": "677c0466-47bf-4728-b15a-7a6c1bc64536",
   "metadata": {},
   "outputs": [
    {
     "name": "stderr",
     "output_type": "stream",
     "text": [
      "SquareThread: [1, 4, 9, 16, 25, 36, 49, 64, 81, 100]\n",
      "CubeThread: [1, 8, 27, 64, 125, 216, 343, 512, 729, 1000]\n",
      "MainThread: Finished!\n"
     ]
    }
   ],
   "source": [
    "import threading\n",
    "import logging\n",
    "\n",
    "logging.basicConfig(level=logging.DEBUG, format='%(threadName)s: %(message)s')\n",
    "\n",
    "def print_squares():\n",
    "    logging.debug([i**2 for i in range(1, 11)])\n",
    "\n",
    "def print_cubes():\n",
    "    logging.debug([i**3 for i in range(1, 11)])\n",
    "\n",
    "t1 = threading.Thread(target=print_squares, name='SquareThread')\n",
    "t2 = threading.Thread(target=print_cubes, name='CubeThread')\n",
    "\n",
    "t1.start()\n",
    "t2.start()\n",
    "\n",
    "t1.join()\n",
    "t2.join()\n",
    "\n",
    "logging.info(\"Finished!\")\n"
   ]
  },
  {
   "cell_type": "code",
   "execution_count": 17,
   "id": "0d00a243-bd26-4706-abec-d119a1bd99c8",
   "metadata": {},
   "outputs": [
    {
     "data": {
      "text/plain": [
       "'5. State advantages and disadvantages of multithreading'"
      ]
     },
     "execution_count": 17,
     "metadata": {},
     "output_type": "execute_result"
    }
   ],
   "source": [
    "\"\"\"5. State advantages and disadvantages of multithreading\"\"\""
   ]
  },
  {
   "cell_type": "code",
   "execution_count": 18,
   "id": "2fdca4ca-b3c8-433a-a288-7392b171cccb",
   "metadata": {},
   "outputs": [],
   "source": [
    "#Advantages of Multithreading:\n",
    "\n",
    "#1.Increased performance: Multithreading can increase the performance of a program \n",
    "#by allowing different parts of the program to run concurrently.\n",
    "#This can result in faster program execution and more efficient use of system resources.\n",
    "\n",
    "#2.Better responsiveness: Multithreading can improve the responsiveness of a program by allowing\n",
    "#the program to perform multiple tasks at the same time.\n",
    "#This can make the program more interactive and responsive to user input.\n",
    "\n",
    "#3.Resource sharing: Multithreading can allow multiple threads to share system resources such as memory and CPU time.\n",
    "#This can result in more efficient use of system resources and can reduce the overall system load.\n",
    "\n",
    "#4.Simplified programming: Multithreading can simplify programming by allowing developers to break up \n",
    "#complex tasks into smaller, more manageable pieces. \n",
    "#This can make the code easier to write and debug.\n",
    "\n",
    "#Disadvantages of Multithreading:\n",
    "\n",
    "#1.Complexity: Multithreading can make a program more complex and difficult to develop, test, and debug.\n",
    "#Synchronization issues can arise when multiple threads access the same shared resources.\n",
    "\n",
    "#2.Resource contention: Multithreading can lead to resource contention when multiple threads compete for the same resources\n",
    "# This can result in reduced performance and increased overhead.\n",
    "\n",
    "#3.Deadlocks: Multithreading can lead to deadlocks, which occur when two or more threads are blocked waiting for each other to release a resource.\n",
    "#Deadlocks can cause a program to hang and become unresponsive.\n",
    "\n",
    "#4.Increased overhead: Multithreading can result in increased overhead due to the need for synchronization and communication between threads.\n",
    "#This can lead to reduced performance and increased system load.\n"
   ]
  },
  {
   "cell_type": "code",
   "execution_count": 20,
   "id": "8993cb7f-e506-4726-bd70-e9a1ac43f5b5",
   "metadata": {},
   "outputs": [
    {
     "data": {
      "text/plain": [
       "'6. Explain deadlocks and race conditions'"
      ]
     },
     "execution_count": 20,
     "metadata": {},
     "output_type": "execute_result"
    }
   ],
   "source": [
    "\"\"\"6. Explain deadlocks and race conditions\"\"\""
   ]
  },
  {
   "cell_type": "code",
   "execution_count": null,
   "id": "5e6b3eb4-fb4d-4eb3-b638-d3bd4655a2da",
   "metadata": {},
   "outputs": [],
   "source": [
    "#Deadlocks and race conditions are both problems that can occur in concurrent \n",
    "#programming when multiple threads or processes are running at the same time.\n",
    "\n",
    "#A deadlock is a situation where two or more processes or threads are blocked,\n",
    "each waiting for the other to release a resource,\n",
    "#so that none of them can proceed.\n",
    "#In other words, a deadlock occurs when there is a circular dependency among two or more resources,\n",
    "#and each process holds one resource while waiting for the other.\n",
    "#This can lead to a system-wide halt, as none of the processes can continue.\n",
    "\n",
    "#A race condition, on the other hand, occurs when two or more threads or processes access a shared \n",
    "#resource in an unsynchronized manner, and the final result of the \n",
    "#program depends on the order in which the threads execute. Race conditions can cause unpredictable behavior,\n",
    "#as the output of the program depends on the exact timing and \n",
    "#scheduling of the threads.\n",
    "\n",
    "#Both deadlocks and race conditions can be difficult to detect and debug,\n",
    "#as they can occur intermittently and in unpredictable ways.\n",
    "#it's important to design concurrent programs carefully, using techniques like synchronization, locking, and\n",
    "#thread-safe data structures, to avoid these issues.\n"
   ]
  }
 ],
 "metadata": {
  "kernelspec": {
   "display_name": "Python 3 (ipykernel)",
   "language": "python",
   "name": "python3"
  },
  "language_info": {
   "codemirror_mode": {
    "name": "ipython",
    "version": 3
   },
   "file_extension": ".py",
   "mimetype": "text/x-python",
   "name": "python",
   "nbconvert_exporter": "python",
   "pygments_lexer": "ipython3",
   "version": "3.10.8"
  }
 },
 "nbformat": 4,
 "nbformat_minor": 5
}
